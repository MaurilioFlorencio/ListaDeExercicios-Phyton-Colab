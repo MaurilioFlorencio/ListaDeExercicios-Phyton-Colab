{
  "nbformat": 4,
  "nbformat_minor": 0,
  "metadata": {
    "colab": {
      "provenance": [],
      "authorship_tag": "ABX9TyO6EGoUYr0bsRFRxNzI4O+i",
      "include_colab_link": true
    },
    "kernelspec": {
      "name": "python3",
      "display_name": "Python 3"
    },
    "language_info": {
      "name": "python"
    }
  },
  "cells": [
    {
      "cell_type": "markdown",
      "metadata": {
        "id": "view-in-github",
        "colab_type": "text"
      },
      "source": [
        "<a href=\"https://colab.research.google.com/github/MaurilioFlorencio/ListaDeExercicios-Phyton-Colab/blob/main/ListadeExerc%C3%ADcios_Maur%C3%ADlio.ipynb\" target=\"_parent\"><img src=\"https://colab.research.google.com/assets/colab-badge.svg\" alt=\"Open In Colab\"/></a>"
      ]
    },
    {
      "cell_type": "markdown",
      "source": [
        "1. Faça um CÓDIGO que mostre a mensagem \"Olá ETE PORTO DIGITAL!\" na tela."
      ],
      "metadata": {
        "id": "CSviGjanFNJe"
      }
    },
    {
      "cell_type": "code",
      "execution_count": null,
      "metadata": {
        "colab": {
          "base_uri": "https://localhost:8080/"
        },
        "id": "Aa03AICV4gsT",
        "outputId": "51b3c8ae-9059-487e-db37-06d1395bbaa6"
      },
      "outputs": [
        {
          "output_type": "stream",
          "name": "stdout",
          "text": [
            "Olá ETE PORTO DIGITAL\n"
          ]
        }
      ],
      "source": [
        "print(\"Olá ETE PORTO DIGITAL\")"
      ]
    },
    {
      "cell_type": "markdown",
      "source": [
        "2. Faça um CÓDIGO que peça um número e então mostre a mensagem O número informado foi [número]."
      ],
      "metadata": {
        "id": "1jCPe_DfF23k"
      }
    },
    {
      "cell_type": "code",
      "source": [
        "numero = float(input(\"Digite um número: \"))\n",
        "print(\"O número informado foi\" , numero)"
      ],
      "metadata": {
        "colab": {
          "base_uri": "https://localhost:8080/"
        },
        "id": "Yw8u5KIR5piq",
        "outputId": "5874f98e-b2c6-463b-b078-c40e0e7f0aa0"
      },
      "execution_count": null,
      "outputs": [
        {
          "output_type": "stream",
          "name": "stdout",
          "text": [
            "Digite um número: 1.5\n",
            "O número informado foi 1.5\n"
          ]
        }
      ]
    },
    {
      "cell_type": "markdown",
      "source": [
        "3. Faça um CÓDIGO que peça dois números e imprima a soma."
      ],
      "metadata": {
        "id": "Y7uaiaK9F8MM"
      }
    },
    {
      "cell_type": "code",
      "source": [
        "numero1 = float(input(\"Digite um número: \"))\n",
        "numero2 = float(input(\"Digite outro número: \"))\n",
        "soma = numero1 + numero2\n",
        "print(\"A soma dos numeros é: \" , soma)"
      ],
      "metadata": {
        "colab": {
          "base_uri": "https://localhost:8080/"
        },
        "id": "_XgYbRh26AWh",
        "outputId": "19dfc417-7370-43d9-c5cf-8dd702bc16fa"
      },
      "execution_count": null,
      "outputs": [
        {
          "output_type": "stream",
          "name": "stdout",
          "text": [
            "Digite um número: 1\n",
            "Digite outro número: 2\n",
            "A soma dos numeros é:  3.0\n"
          ]
        }
      ]
    },
    {
      "cell_type": "markdown",
      "source": [
        "4. Faça um CÓDIGO que peça as 4 notas bimestrais e mostre a média final.\n"
      ],
      "metadata": {
        "id": "INfDfMCNGPuu"
      }
    },
    {
      "cell_type": "code",
      "source": [
        "nota1 = float(input(\"Digite a primeira nota: \"))\n",
        "nota2 = float(input(\"Digite a segunda nota: \"))\n",
        "nota3 = float(input(\"Digite a terceira nota: \"))\n",
        "nota4 = float(input(\"Digite a quarta nota: \"))\n",
        "media = (nota1 + nota2 + nota3 + nota4)/4\n",
        "print(\"A media final é: \" , media)"
      ],
      "metadata": {
        "colab": {
          "base_uri": "https://localhost:8080/"
        },
        "id": "W-1INoT16rUC",
        "outputId": "18890df0-d7fd-4789-cfc7-7d277b255bb5"
      },
      "execution_count": null,
      "outputs": [
        {
          "output_type": "stream",
          "name": "stdout",
          "text": [
            "Digite a primeira nota: 2\n",
            "Digite a segunda nota: 2\n",
            "Digite a terceira nota: 2\n",
            "Digite a quarta nota: 2\n",
            "A media final é:  2.0\n"
          ]
        }
      ]
    },
    {
      "cell_type": "markdown",
      "source": [
        "5. Faça um CÓDIGO que converta metros para centímetros.\n"
      ],
      "metadata": {
        "id": "Z2vSj94gGR25"
      }
    },
    {
      "cell_type": "code",
      "source": [
        "distancia = float(input(\"Digite a distância(m) a ser convertida para cm: \"))\n",
        "distanciaCm = distancia * 100\n",
        "print(f\"A distância em centimetros é {distanciaCm}cm.\")"
      ],
      "metadata": {
        "colab": {
          "base_uri": "https://localhost:8080/"
        },
        "id": "p1aBNg5K74-A",
        "outputId": "6f3a4092-f776-46af-b173-8333764d3f4a"
      },
      "execution_count": null,
      "outputs": [
        {
          "output_type": "stream",
          "name": "stdout",
          "text": [
            "Digite a distância(m) a ser convertida para cm: 2\n",
            "A distância em centimetros é 200.0.\n"
          ]
        }
      ]
    },
    {
      "cell_type": "markdown",
      "source": [
        "6. Faça um CÓDIGO que peça o raio de um círculo, calcule e mostre sua área.\n"
      ],
      "metadata": {
        "id": "v_9if649GUo5"
      }
    },
    {
      "cell_type": "code",
      "source": [
        "raio = float(input(\"Digite o raio do círculo: \"))\n",
        "area = raio * raio * 3.14\n",
        "print(\"A área do círculo é: \" , area)"
      ],
      "metadata": {
        "colab": {
          "base_uri": "https://localhost:8080/"
        },
        "id": "RMCSCSUc8fyg",
        "outputId": "a7ff1a9c-810a-4f84-c628-ff79c09fceed"
      },
      "execution_count": null,
      "outputs": [
        {
          "output_type": "stream",
          "name": "stdout",
          "text": [
            "Digite o raio do círculo: 2\n",
            "A área do círculo é:  12.56\n"
          ]
        }
      ]
    },
    {
      "cell_type": "markdown",
      "source": [
        "7. Faça um CÓDIGO que calcule a área de um quadrado, em seguida mostre o dobro desta área para o usuário.\n"
      ],
      "metadata": {
        "id": "48f3Uc-RGWSc"
      }
    },
    {
      "cell_type": "code",
      "source": [
        "lado = float(input(\"Digite o tamanho de um dos lados do quadrado: \"))\n",
        "area = lado * lado\n",
        "print(\"O dobro da área do quadrado é: \" , area*2)"
      ],
      "metadata": {
        "colab": {
          "base_uri": "https://localhost:8080/"
        },
        "id": "-lJiUrhx9WH5",
        "outputId": "e1187aaf-7d7e-42b8-ed9c-fe7b8302d1ca"
      },
      "execution_count": null,
      "outputs": [
        {
          "output_type": "stream",
          "name": "stdout",
          "text": [
            "Digite o tamanho de um dos lados do quadrado: 2\n",
            "O dobro da área do quadrado é:  8.0\n"
          ]
        }
      ]
    },
    {
      "cell_type": "markdown",
      "source": [
        "8. Faça um CÓDIGO que pergunte quanto você ganha por hora e o número de horas trabalhadas no mês. Calcule e mostre o total do seu salário no referido mês.\n"
      ],
      "metadata": {
        "id": "sCZYC7oQGYgI"
      }
    },
    {
      "cell_type": "code",
      "source": [
        "horaTrabalhada = float(input(\"Digite o quanto você ganha por hora: \"))\n",
        "horas = int(input(\"Digite o total de horas trabalhadas no mês: \"))\n",
        "salario = horas * horaTrabalhada\n",
        "print(\"O salário do mês foi: \" , salario)"
      ],
      "metadata": {
        "colab": {
          "base_uri": "https://localhost:8080/"
        },
        "id": "87elpw-_94Om",
        "outputId": "3ce00daa-f442-4f2d-932c-bcbb99f171f6"
      },
      "execution_count": null,
      "outputs": [
        {
          "output_type": "stream",
          "name": "stdout",
          "text": [
            "Digite o quanto você ganha por hora: 2\n",
            "Digite o total de horas trabalhadas no mês: 30\n",
            "O salário do mês foi:  60.0\n"
          ]
        }
      ]
    },
    {
      "cell_type": "markdown",
      "source": [
        "9. Faça um CÓDIGO que peça um valor e mostre na tela se o valor é positivo ou negativo.\n"
      ],
      "metadata": {
        "id": "aL7h316ZGaRC"
      }
    },
    {
      "cell_type": "code",
      "source": [
        "numero = float(input(\"Digite um número: \"))\n",
        "if numero >= 0:\n",
        "    print(\"O número digitado é positivo.\")\n",
        "else:\n",
        "    print(\"O número digitado é negativo.\")\n"
      ],
      "metadata": {
        "colab": {
          "base_uri": "https://localhost:8080/"
        },
        "id": "xMwJRHkwACJo",
        "outputId": "92d3723f-4148-432c-d901-d3ba74e7a0b3"
      },
      "execution_count": null,
      "outputs": [
        {
          "output_type": "stream",
          "name": "stdout",
          "text": [
            "Digite um número: 1.1\n",
            "O número digitado é positivo.\n"
          ]
        }
      ]
    },
    {
      "cell_type": "markdown",
      "source": [
        "10. Faça um CÓDIGO que verifique se uma letra digitada é \"F\" ou \"M\". Conforme a letra escrever: F - Feminino, M - Masculino, Sexo Inválido.\n"
      ],
      "metadata": {
        "id": "yWflxhbmGbwv"
      }
    },
    {
      "cell_type": "code",
      "source": [
        "letra = input(\"Digite uma letra: \")\n",
        "if letra == \"F\":\n",
        "    print(\"F - Feminino\")\n",
        "elif letra == \"M\":\n",
        "    print(\"M - Masculino\")\n",
        "else:\n",
        "    print(\"Sexo Inválido.\")"
      ],
      "metadata": {
        "colab": {
          "base_uri": "https://localhost:8080/"
        },
        "id": "rjtw8VXTBRCf",
        "outputId": "3609e95e-562a-42df-efcc-acf83b6c4681"
      },
      "execution_count": null,
      "outputs": [
        {
          "output_type": "stream",
          "name": "stdout",
          "text": [
            "Digite um número: M\n",
            "M - Masculino\n"
          ]
        }
      ]
    }
  ]
}